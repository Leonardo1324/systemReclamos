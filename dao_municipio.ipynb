{
 "cells": [
  {
   "cell_type": "code",
   "execution_count": 1,
   "id": "1d5dedec-ff32-4421-b2b5-4a87ec92c83a",
   "metadata": {},
   "outputs": [
    {
     "name": "stdout",
     "output_type": "stream",
     "text": [
      "/opt/oracle/instantclient_19_22\n",
      "entering parameters config\n",
      "finished config for parameters\n",
      "entering parameters config\n",
      "finished config for parameters\n",
      "entering parameters config\n",
      "finished config for parameters\n",
      "entering parameters config\n",
      "finished config for parameters\n",
      "entering parameters config\n",
      "finished config for parameters\n",
      "entering parameters config\n",
      "finished config for parameters\n",
      "entering parameters config\n",
      "finished config for parameters\n",
      "entering parameters config\n",
      "finished config for parameters\n",
      "entering parameters config\n",
      "finished config for parameters\n",
      "entering parameters config\n",
      "finished config for parameters\n",
      "entering parameters config\n",
      "finished config for parameters\n",
      "starting\n",
      "finished connection\n",
      "listo\n"
     ]
    }
   ],
   "source": [
    "from dao2 import ReclamoDAO\n",
    "print(\"listo\")"
   ]
  },
  {
   "cell_type": "code",
   "execution_count": 2,
   "id": "85a5bb50-6139-48fd-9d4b-69b8e37d0c6d",
   "metadata": {},
   "outputs": [],
   "source": [
    "data = ReclamoDAO()\n",
    "municipios = data.get_municipalities()"
   ]
  },
  {
   "cell_type": "code",
   "execution_count": 3,
   "id": "e6657523-7401-404a-8286-3ab39ee51d46",
   "metadata": {},
   "outputs": [
    {
     "data": {
      "text/plain": [
       "[(1.0, 2, 'Municipalidad de Belen'),\n",
       " (2.0, 2, 'Municipalidad de tinogasta'),\n",
       " (3.0, 1, 'Municipalidad de Chilecito'),\n",
       " (4.0, 1, 'Municipalidad de capita'),\n",
       " (5.0, 1, 'Municiapalidad Famatina')]"
      ]
     },
     "execution_count": 3,
     "metadata": {},
     "output_type": "execute_result"
    }
   ],
   "source": [
    "municipios"
   ]
  },
  {
   "cell_type": "code",
   "execution_count": 4,
   "id": "a0034c66-ef06-4d9c-8e04-bb51097fb749",
   "metadata": {},
   "outputs": [
    {
     "data": {
      "text/plain": [
       "[(2.0, 2, 'Municipalidad de tinogasta')]"
      ]
     },
     "execution_count": 4,
     "metadata": {},
     "output_type": "execute_result"
    }
   ],
   "source": [
    "muni_id = data.get_municipalities(mun_id=2)\n",
    "muni_id"
   ]
  },
  {
   "cell_type": "code",
   "execution_count": 5,
   "id": "2a728112-f036-47ca-b4af-113343a3660e",
   "metadata": {},
   "outputs": [
    {
     "data": {
      "text/plain": [
       "[(5.0, 1, 'Municiapalidad Famatina')]"
      ]
     },
     "execution_count": 5,
     "metadata": {},
     "output_type": "execute_result"
    }
   ],
   "source": [
    "muni_nombre = data.get_municipalities(mun_nombre=\"Municiapalidad Famatina\")\n",
    "muni_nombre"
   ]
  },
  {
   "cell_type": "code",
   "execution_count": 6,
   "id": "a5de81f6-a040-4bc3-b053-ecc9544f879c",
   "metadata": {},
   "outputs": [
    {
     "data": {
      "text/plain": [
       "[(3.0, 1, 'Municipalidad de Chilecito'),\n",
       " (4.0, 1, 'Municipalidad de capita'),\n",
       " (5.0, 1, 'Municiapalidad Famatina')]"
      ]
     },
     "execution_count": 6,
     "metadata": {},
     "output_type": "execute_result"
    }
   ],
   "source": [
    "muni_prov = data.get_municipalities(prov_id=1)\n",
    "muni_prov"
   ]
  },
  {
   "cell_type": "code",
   "execution_count": null,
   "id": "8be3932c-f1db-4ec1-9bf2-4fc3b96296af",
   "metadata": {},
   "outputs": [],
   "source": []
  }
 ],
 "metadata": {
  "kernelspec": {
   "display_name": "Python 3 (ipykernel)",
   "language": "python",
   "name": "python3"
  },
  "language_info": {
   "codemirror_mode": {
    "name": "ipython",
    "version": 3
   },
   "file_extension": ".py",
   "mimetype": "text/x-python",
   "name": "python",
   "nbconvert_exporter": "python",
   "pygments_lexer": "ipython3",
   "version": "3.10.12"
  }
 },
 "nbformat": 4,
 "nbformat_minor": 5
}
