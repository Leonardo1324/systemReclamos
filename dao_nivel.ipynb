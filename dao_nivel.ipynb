{
 "cells": [
  {
   "cell_type": "code",
   "execution_count": 1,
   "id": "45700ab5-1f03-4a20-8d9f-a9e803141039",
   "metadata": {},
   "outputs": [
    {
     "name": "stdout",
     "output_type": "stream",
     "text": [
      "/opt/oracle/instantclient_21_4\n",
      "entering parameters config\n",
      "finished config for parameters\n",
      "starting\n",
      "finished connection\n",
      "listo\n"
     ]
    }
   ],
   "source": [
    "from dao import ReclamoDAO\n",
    "print(\"listo\")"
   ]
  },
  {
   "cell_type": "code",
   "execution_count": 2,
   "id": "2d619b97-a93c-4787-ad38-f17ef3b52b43",
   "metadata": {},
   "outputs": [
    {
     "name": "stdout",
     "output_type": "stream",
     "text": [
      "[(1.0, 'Nivel principiante', 'Nivel para usuarios creados recientemente.')]\n"
     ]
    }
   ],
   "source": [
    "#get nivel all\n",
    "reclamo_dao = ReclamoDAO()\n",
    "\n",
    "datos = reclamo_dao.get_levels()\n",
    "\n",
    "print(datos)"
   ]
  },
  {
   "cell_type": "code",
   "execution_count": 4,
   "id": "3b9d2017-1d3a-4d87-9660-e16a30e77241",
   "metadata": {},
   "outputs": [
    {
     "name": "stdout",
     "output_type": "stream",
     "text": [
      "[(1.0, 'Nivel principiante', 'Nivel para usuarios creados recientemente.')]\n"
     ]
    }
   ],
   "source": [
    "#get nivel por nombre\n",
    "reclamo_dao = ReclamoDAO()\n",
    "\n",
    "datos = reclamo_dao.get_levels(niv_nombre = \"Nivel principiante\")\n",
    "\n",
    "print(datos)"
   ]
  },
  {
   "cell_type": "code",
   "execution_count": 5,
   "id": "4a7e1bb2-19ee-4455-9774-46d21e2ab002",
   "metadata": {},
   "outputs": [
    {
     "name": "stdout",
     "output_type": "stream",
     "text": [
      "[(1.0, 'Nivel principiante', 'Nivel para usuarios creados recientemente.')]\n"
     ]
    }
   ],
   "source": [
    "#get nivel por id\n",
    "reclamo_dao = ReclamoDAO()\n",
    "\n",
    "datos = reclamo_dao.get_levels(niv_id = 1)\n",
    "\n",
    "print(datos)"
   ]
  }
 ],
 "metadata": {
  "kernelspec": {
   "display_name": "Python 3 (ipykernel)",
   "language": "python",
   "name": "python3"
  },
  "language_info": {
   "codemirror_mode": {
    "name": "ipython",
    "version": 3
   },
   "file_extension": ".py",
   "mimetype": "text/x-python",
   "name": "python",
   "nbconvert_exporter": "python",
   "pygments_lexer": "ipython3",
   "version": "3.11.6"
  }
 },
 "nbformat": 4,
 "nbformat_minor": 5
}
