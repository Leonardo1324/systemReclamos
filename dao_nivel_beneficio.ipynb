{
 "cells": [
  {
   "cell_type": "code",
   "execution_count": 1,
   "id": "bba51ab6-6d09-4590-837d-97b1e487b6c7",
   "metadata": {},
   "outputs": [
    {
     "name": "stdout",
     "output_type": "stream",
     "text": [
      "/opt/oracle/instantclient_21_4\n",
      "entering parameters config\n",
      "finished config for parameters\n",
      "entering parameters config\n",
      "finished config for parameters\n",
      "entering parameters config\n",
      "finished config for parameters\n",
      "entering parameters config\n",
      "finished config for parameters\n",
      "starting\n",
      "finished connection\n",
      "listo\n"
     ]
    }
   ],
   "source": [
    "from dao import ReclamoDAO\n",
    "print(\"listo\")"
   ]
  },
  {
   "cell_type": "code",
   "execution_count": 2,
   "id": "85908ffa-d230-4310-b099-ff66e790ae0e",
   "metadata": {},
   "outputs": [
    {
     "name": "stdout",
     "output_type": "stream",
     "text": [
      "[(1.0, 1, 1)]\n"
     ]
    }
   ],
   "source": [
    "#get nivel beneficio all\n",
    "reclamo_dao = ReclamoDAO()\n",
    "\n",
    "datos = reclamo_dao.get_levels_benefits()\n",
    "\n",
    "print(datos)"
   ]
  },
  {
   "cell_type": "code",
   "execution_count": 3,
   "id": "65b8d9f6-88e7-4d0f-92a1-b8151a9fe3be",
   "metadata": {},
   "outputs": [
    {
     "name": "stdout",
     "output_type": "stream",
     "text": [
      "[('Nivel principiante', 'Descuento supermercado SpaceX', 'El beneficio tiene un descuento del 30% sin tope de reintegro en todos los supermercados SpaceX')]\n"
     ]
    }
   ],
   "source": [
    "#get beneficio por nivel\n",
    "reclamo_dao = ReclamoDAO()\n",
    "\n",
    "datos = reclamo_dao.get_levels_benefits(niv_id= 1)\n",
    "\n",
    "print(datos)"
   ]
  }
 ],
 "metadata": {
  "kernelspec": {
   "display_name": "Python 3 (ipykernel)",
   "language": "python",
   "name": "python3"
  },
  "language_info": {
   "codemirror_mode": {
    "name": "ipython",
    "version": 3
   },
   "file_extension": ".py",
   "mimetype": "text/x-python",
   "name": "python",
   "nbconvert_exporter": "python",
   "pygments_lexer": "ipython3",
   "version": "3.11.6"
  }
 },
 "nbformat": 4,
 "nbformat_minor": 5
}
