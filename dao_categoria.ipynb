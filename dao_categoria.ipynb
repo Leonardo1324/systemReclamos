{
 "cells": [
  {
   "cell_type": "code",
   "execution_count": 1,
   "id": "42329ad8-7204-4745-a83a-6a05c9fc4fc4",
   "metadata": {},
   "outputs": [
    {
     "name": "stdout",
     "output_type": "stream",
     "text": [
      "/opt/oracle/instantclient_21_4\n",
      "entering parameters config\n",
      "finished config for parameters\n",
      "entering parameters config\n",
      "finished config for parameters\n",
      "entering parameters config\n",
      "finished config for parameters\n",
      "entering parameters config\n",
      "finished config for parameters\n",
      "entering parameters config\n",
      "finished config for parameters\n",
      "entering parameters config\n",
      "finished config for parameters\n",
      "entering parameters config\n",
      "finished config for parameters\n",
      "entering parameters config\n",
      "finished config for parameters\n",
      "entering parameters config\n",
      "finished config for parameters\n",
      "entering parameters config\n",
      "finished config for parameters\n",
      "entering parameters config\n",
      "finished config for parameters\n",
      "starting\n",
      "finished connection\n"
     ]
    }
   ],
   "source": [
    "from dao import ReclamoDAO"
   ]
  },
  {
   "cell_type": "code",
   "execution_count": 2,
   "id": "7e345ce9-562a-431c-8d3a-cdf83a90b326",
   "metadata": {},
   "outputs": [
    {
     "name": "stdout",
     "output_type": "stream",
     "text": [
      "[(1.0, 'INFRAESTRUCTURA')]\n"
     ]
    }
   ],
   "source": [
    "#get categoria all\n",
    "reclamo_dao = ReclamoDAO()\n",
    "\n",
    "datos = reclamo_dao.get_categories()\n",
    "\n",
    "print(datos)"
   ]
  },
  {
   "cell_type": "code",
   "execution_count": 5,
   "id": "f5f5ecab-8253-4667-9194-7817c57f8450",
   "metadata": {},
   "outputs": [
    {
     "name": "stdout",
     "output_type": "stream",
     "text": [
      "[(1.0, 'INFRAESTRUCTURA')]\n"
     ]
    }
   ],
   "source": [
    "#get categoria por id\n",
    "reclamo_dao = ReclamoDAO()\n",
    "\n",
    "datos = reclamo_dao.get_categories(cat_id= 1)\n",
    "\n",
    "print(datos)"
   ]
  },
  {
   "cell_type": "code",
   "execution_count": 6,
   "id": "bfd783d8-6dcf-4439-be53-e4ebf7b52640",
   "metadata": {},
   "outputs": [
    {
     "name": "stdout",
     "output_type": "stream",
     "text": [
      "[(1.0, 'INFRAESTRUCTURA')]\n"
     ]
    }
   ],
   "source": [
    "#get categoria por nombre\n",
    "reclamo_dao = ReclamoDAO()\n",
    "\n",
    "datos = reclamo_dao.get_categories(cat_nombre= \"INFRAESTRUCTURA\")\n",
    "\n",
    "print(datos)"
   ]
  }
 ],
 "metadata": {
  "kernelspec": {
   "display_name": "Python 3 (ipykernel)",
   "language": "python",
   "name": "python3"
  },
  "language_info": {
   "codemirror_mode": {
    "name": "ipython",
    "version": 3
   },
   "file_extension": ".py",
   "mimetype": "text/x-python",
   "name": "python",
   "nbconvert_exporter": "python",
   "pygments_lexer": "ipython3",
   "version": "3.11.6"
  }
 },
 "nbformat": 4,
 "nbformat_minor": 5
}
