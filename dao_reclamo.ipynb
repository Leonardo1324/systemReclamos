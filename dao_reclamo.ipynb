{
 "cells": [
  {
   "cell_type": "code",
   "execution_count": 1,
   "id": "c6e0b3c1-555b-4dbe-9673-ae9880131242",
   "metadata": {},
   "outputs": [
    {
     "name": "stdout",
     "output_type": "stream",
     "text": [
      "/opt/oracle/instantclient_21_4\n",
      "entering parameters config\n",
      "finished config for parameters\n",
      "entering parameters config\n",
      "finished config for parameters\n",
      "entering parameters config\n",
      "finished config for parameters\n",
      "entering parameters config\n",
      "finished config for parameters\n",
      "entering parameters config\n",
      "finished config for parameters\n",
      "entering parameters config\n",
      "finished config for parameters\n",
      "entering parameters config\n",
      "finished config for parameters\n",
      "entering parameters config\n",
      "finished config for parameters\n",
      "entering parameters config\n",
      "finished config for parameters\n",
      "starting\n",
      "finished connection\n",
      "listo\n"
     ]
    }
   ],
   "source": [
    "from dao import ReclamoDAO\n",
    "print(\"listo\")"
   ]
  },
  {
   "cell_type": "code",
   "execution_count": 2,
   "id": "7da497d3-488c-4919-899e-f9ae316e80e2",
   "metadata": {},
   "outputs": [
    {
     "name": "stdout",
     "output_type": "stream",
     "text": [
      "[(1.0, 1, 2, 1, 1, 1, 'Manguera rota', 'una manguera pierde agua', datetime.datetime(2024, 5, 9, 0, 0), datetime.datetime(2024, 5, 12, 0, 0))]\n"
     ]
    }
   ],
   "source": [
    "#get reclamo por id\n",
    "reclamo_dao = ReclamoDAO()\n",
    "\n",
    "datos = reclamo_dao.get_claims(rec_id=1)\n",
    "\n",
    "print(datos)"
   ]
  },
  {
   "cell_type": "code",
   "execution_count": 13,
   "id": "a71ee181-d075-4859-8813-a2d4c7f2237f",
   "metadata": {},
   "outputs": [
    {
     "name": "stdout",
     "output_type": "stream",
     "text": [
      "[(1.0, 1, 2, 1, 1, 1, 'Manguera rota', 'una manguera pierde agua', datetime.datetime(2024, 5, 9, 0, 0), datetime.datetime(2024, 5, 12, 0, 0))]\n"
     ]
    }
   ],
   "source": [
    "#get reclamo por nombre\n",
    "reclamo_dao = ReclamoDAO()\n",
    "\n",
    "datos = reclamo_dao.get_claims(rec_titulo=\"Manguera\")\n",
    "\n",
    "print(datos)"
   ]
  },
  {
   "cell_type": "code",
   "execution_count": 4,
   "id": "46d3ecd7-3958-4849-b3de-6890a5aa0cd9",
   "metadata": {},
   "outputs": [
    {
     "name": "stdout",
     "output_type": "stream",
     "text": [
      "[('Manguera rota', 'una manguera pierde agua', 'Chilecito')]\n"
     ]
    }
   ],
   "source": [
    "#get reclamo por municipalidad\n",
    "reclamo_dao = ReclamoDAO()\n",
    "\n",
    "datos = reclamo_dao.get_claims(mun_id=1)\n",
    "\n",
    "print(datos)"
   ]
  },
  {
   "cell_type": "code",
   "execution_count": 5,
   "id": "90f42323-92b6-4b84-b6e7-3273a7fa9a41",
   "metadata": {},
   "outputs": [
    {
     "name": "stdout",
     "output_type": "stream",
     "text": [
      "[('Manguera rota', 'una manguera pierde agua', 'PELIGROSO')]\n"
     ]
    }
   ],
   "source": [
    "#get reclamo por criticidad\n",
    "reclamo_dao = ReclamoDAO()\n",
    "\n",
    "datos = reclamo_dao.get_claims(cri_id=1)\n",
    "\n",
    "print(datos)"
   ]
  },
  {
   "cell_type": "code",
   "execution_count": 6,
   "id": "323d515e-f5a1-4bc1-a4c3-9fea0fe74ed2",
   "metadata": {},
   "outputs": [
    {
     "name": "stdout",
     "output_type": "stream",
     "text": [
      "[('Manguera rota', 'una manguera pierde agua', 'INFRAESTRUCTURA')]\n"
     ]
    }
   ],
   "source": [
    "#get reclamo por categoria\n",
    "reclamo_dao = ReclamoDAO()\n",
    "\n",
    "datos = reclamo_dao.get_claims(cat_id=1)\n",
    "\n",
    "print(datos)"
   ]
  },
  {
   "cell_type": "code",
   "execution_count": 7,
   "id": "605627d4-7c6d-4be5-8ea4-34a2435cd55e",
   "metadata": {},
   "outputs": [
    {
     "name": "stdout",
     "output_type": "stream",
     "text": [
      "[('Manguera rota', 'una manguera pierde agua', 'CREADO')]\n"
     ]
    }
   ],
   "source": [
    "#get reclamo por  estado\n",
    "reclamo_dao = ReclamoDAO()\n",
    "\n",
    "datos = reclamo_dao.get_claims(est_id=1)\n",
    "\n",
    "print(datos)"
   ]
  }
 ],
 "metadata": {
  "kernelspec": {
   "display_name": "Python 3 (ipykernel)",
   "language": "python",
   "name": "python3"
  },
  "language_info": {
   "codemirror_mode": {
    "name": "ipython",
    "version": 3
   },
   "file_extension": ".py",
   "mimetype": "text/x-python",
   "name": "python",
   "nbconvert_exporter": "python",
   "pygments_lexer": "ipython3",
   "version": "3.11.6"
  }
 },
 "nbformat": 4,
 "nbformat_minor": 5
}
