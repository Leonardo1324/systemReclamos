{
 "cells": [
  {
   "cell_type": "code",
   "execution_count": 1,
   "id": "c9d07cb0-f0bc-4f47-ae22-1e14a8f810fc",
   "metadata": {},
   "outputs": [
    {
     "name": "stdout",
     "output_type": "stream",
     "text": [
      "/opt/oracle/instantclient_21_4\n",
      "entering parameters config\n",
      "finished config for parameters\n",
      "entering parameters config\n",
      "finished config for parameters\n",
      "entering parameters config\n",
      "finished config for parameters\n",
      "entering parameters config\n",
      "finished config for parameters\n",
      "entering parameters config\n",
      "finished config for parameters\n",
      "starting\n",
      "finished connection\n",
      "listo\n"
     ]
    }
   ],
   "source": [
    "from dao import ReclamoDAO\n",
    "print(\"listo\")"
   ]
  },
  {
   "cell_type": "code",
   "execution_count": 6,
   "id": "f39121e3-b974-480c-9467-eb1454dcb55d",
   "metadata": {},
   "outputs": [
    {
     "name": "stdout",
     "output_type": "stream",
     "text": [
      "[(3.0, 2, 1, 'Leonardo', 'Zalazar', 'leoCapo2024@gmail.com', '345356664', '39020346', 'qwerty12345')]\n"
     ]
    }
   ],
   "source": [
    "#get users por id\n",
    "reclamo_dao = ReclamoDAO()\n",
    "\n",
    "datos = reclamo_dao.get_users(use_id=3)\n",
    "\n",
    "print(datos)"
   ]
  },
  {
   "cell_type": "code",
   "execution_count": null,
   "id": "157c8808-c8cb-4d3b-a64c-832f7868f5c8",
   "metadata": {},
   "outputs": [],
   "source": [
    "#get users por nombre\n",
    "reclamo_dao = ReclamoDAO()\n",
    "\n",
    "datos = reclamo_dao.get_users(use_nombre=\"Leonardo\")\n",
    "\n",
    "print(datos)"
   ]
  },
  {
   "cell_type": "code",
   "execution_count": 9,
   "id": "6eeb8010-3886-41aa-8d35-e8c9868f3d4d",
   "metadata": {},
   "outputs": [
    {
     "name": "stdout",
     "output_type": "stream",
     "text": [
      "[(3.0, 2, 1, 'Leonardo', 'Zalazar', 'leoCapo2024@gmail.com', '345356664', '39020346', 'qwerty12345')]\n"
     ]
    }
   ],
   "source": [
    "#get users por apellido\n",
    "reclamo_dao = ReclamoDAO()\n",
    "\n",
    "datos = reclamo_dao.get_users(use_apellido=\"Zalazar\")\n",
    "\n",
    "print(datos)"
   ]
  },
  {
   "cell_type": "code",
   "execution_count": 2,
   "id": "1c090ea5-d88c-4cca-9f62-f63c0c884029",
   "metadata": {},
   "outputs": [
    {
     "name": "stdout",
     "output_type": "stream",
     "text": [
      "[(3.0, 2, 1, 'Leonardo', 'Zalazar', 'leoCapo2024@gmail.com', '345356664', '39020346', 'qwerty12345', 'Santa Florentina')]\n"
     ]
    }
   ],
   "source": [
    "#get users por municipalidad\n",
    "reclamo_dao = ReclamoDAO()\n",
    "\n",
    "datos = reclamo_dao.get_users(mun_id=2)\n",
    "\n",
    "print(datos)"
   ]
  },
  {
   "cell_type": "code",
   "execution_count": 8,
   "id": "9cc181ac-6586-42e3-b94f-b5a465dcefc5",
   "metadata": {},
   "outputs": [
    {
     "name": "stdout",
     "output_type": "stream",
     "text": [
      "[(2.0, 1, 1, 'Maximiliano Javier', 'Julio', 'maximilianojavierjulio@gmail.com', '345356664', '43010166', 'WEWQwmmdQ1!!d')]\n"
     ]
    }
   ],
   "source": [
    "#get users por dni\n",
    "reclamo_dao = ReclamoDAO()\n",
    "\n",
    "datos = reclamo_dao.get_users(use_dni=\"43010166\")\n",
    "\n",
    "print(datos)"
   ]
  },
  {
   "cell_type": "code",
   "execution_count": 4,
   "id": "0856a848-a196-404e-9a41-d6d0f55e2b73",
   "metadata": {},
   "outputs": [
    {
     "name": "stdout",
     "output_type": "stream",
     "text": [
      "[('39020346', 'Leonardo', 'Nivel principiante', 'Descuento supermercado SpaceX', 'El beneficio tiene un descuento del 30% sin tope de reintegro en todos los supermercados SpaceX')]\n"
     ]
    }
   ],
   "source": [
    "#get user por nivel\n",
    "reclamo_dao = ReclamoDAO()\n",
    "\n",
    "datos = reclamo_dao.get_users(use_id=3, use_nombre=\"Leonardo\")\n",
    "\n",
    "print(datos)"
   ]
  }
 ],
 "metadata": {
  "kernelspec": {
   "display_name": "Python 3 (ipykernel)",
   "language": "python",
   "name": "python3"
  },
  "language_info": {
   "codemirror_mode": {
    "name": "ipython",
    "version": 3
   },
   "file_extension": ".py",
   "mimetype": "text/x-python",
   "name": "python",
   "nbconvert_exporter": "python",
   "pygments_lexer": "ipython3",
   "version": "3.11.6"
  }
 },
 "nbformat": 4,
 "nbformat_minor": 5
}
