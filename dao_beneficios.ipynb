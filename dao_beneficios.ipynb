{
 "cells": [
  {
   "cell_type": "code",
   "execution_count": 1,
   "id": "cb49c49f-4708-4ced-a2bc-3d928ef17ccb",
   "metadata": {},
   "outputs": [
    {
     "name": "stdout",
     "output_type": "stream",
     "text": [
      "/opt/oracle/instantclient_19_22\n",
      "entering parameters config\n",
      "finished config for parameters\n",
      "entering parameters config\n",
      "finished config for parameters\n",
      "entering parameters config\n",
      "finished config for parameters\n",
      "entering parameters config\n",
      "finished config for parameters\n",
      "entering parameters config\n",
      "finished config for parameters\n",
      "entering parameters config\n",
      "finished config for parameters\n",
      "entering parameters config\n",
      "finished config for parameters\n",
      "entering parameters config\n",
      "finished config for parameters\n",
      "entering parameters config\n",
      "finished config for parameters\n",
      "entering parameters config\n",
      "finished config for parameters\n",
      "entering parameters config\n",
      "finished config for parameters\n",
      "starting\n",
      "finished connection\n",
      "listo\n"
     ]
    }
   ],
   "source": [
    "from dao2 import ReclamoDAO\n",
    "print(\"listo\")"
   ]
  },
  {
   "cell_type": "code",
   "execution_count": 2,
   "id": "007d5859-4ec2-47b9-a0be-4f06cecb58e9",
   "metadata": {
    "scrolled": true
   },
   "outputs": [],
   "source": [
    "data = ReclamoDAO()\n",
    "beneficios=data.get_benefits()"
   ]
  },
  {
   "cell_type": "code",
   "execution_count": 3,
   "id": "cebda080-f034-4cb8-9f29-2d6392994e26",
   "metadata": {},
   "outputs": [
    {
     "data": {
      "text/plain": [
       "[(1.0, 'Descuento supermercado SpaceX', 'El beneficio tiene un descuento del 30% sin tope de reintegro en todos los supermercados SpaceX', datetime.datetime(2024, 4, 24, 0, 0), datetime.datetime(2024, 12, 31, 0, 0)),\n",
       " (2.0, 'Descuento Ferreteria', 'El beneficio tiene un descuento del 20% sin tope de reintegro en todas las Ferreterias', datetime.datetime(2024, 4, 24, 0, 0), datetime.datetime(2024, 12, 31, 0, 0)),\n",
       " (3.0, 'Descuento Corralon', 'beneficio tiene un descuento del 15% sin tope de reintegro en todos los corralones de construccion', datetime.datetime(2024, 4, 24, 0, 0), datetime.datetime(2024, 12, 31, 0, 0))]"
      ]
     },
     "execution_count": 3,
     "metadata": {},
     "output_type": "execute_result"
    }
   ],
   "source": [
    "beneficios"
   ]
  },
  {
   "cell_type": "code",
   "execution_count": 4,
   "id": "1b9cdf2b-d51b-4763-b65f-578be1cfb940",
   "metadata": {},
   "outputs": [],
   "source": [
    "unico = data.get_benefits(ben_id=1)"
   ]
  },
  {
   "cell_type": "code",
   "execution_count": 5,
   "id": "27d21fb9-b8c1-4835-a462-78fb0b6ae68f",
   "metadata": {},
   "outputs": [
    {
     "data": {
      "text/plain": [
       "[(1.0, 'Descuento supermercado SpaceX', 'El beneficio tiene un descuento del 30% sin tope de reintegro en todos los supermercados SpaceX', datetime.datetime(2024, 4, 24, 0, 0), datetime.datetime(2024, 12, 31, 0, 0))]"
      ]
     },
     "execution_count": 5,
     "metadata": {},
     "output_type": "execute_result"
    }
   ],
   "source": [
    "unico"
   ]
  },
  {
   "cell_type": "code",
   "execution_count": 6,
   "id": "c05ffcbe-db4d-4ad5-b5e9-f3c724a657db",
   "metadata": {},
   "outputs": [],
   "source": [
    "vence = data.get_benefits(ven=1)"
   ]
  },
  {
   "cell_type": "code",
   "execution_count": 7,
   "id": "f19cfa55-8ff8-4b97-9033-b7ffc865db73",
   "metadata": {},
   "outputs": [
    {
     "data": {
      "text/plain": [
       "[(1.0, 'Descuento supermercado SpaceX', 'El beneficio tiene un descuento del 30% sin tope de reintegro en todos los supermercados SpaceX', datetime.datetime(2024, 4, 24, 0, 0), datetime.datetime(2024, 12, 31, 0, 0))]"
      ]
     },
     "execution_count": 7,
     "metadata": {},
     "output_type": "execute_result"
    }
   ],
   "source": [
    "vence"
   ]
  },
  {
   "cell_type": "code",
   "execution_count": 8,
   "id": "11cd97c4-d52d-48c3-921c-39b4fc4b2f0a",
   "metadata": {},
   "outputs": [],
   "source": [
    "nombre = data.get_benefits(ben_nombre='Descuento Ferreteria')"
   ]
  },
  {
   "cell_type": "code",
   "execution_count": 9,
   "id": "f2dd857b-e786-4b4e-a6de-31d04a0be0aa",
   "metadata": {},
   "outputs": [
    {
     "data": {
      "text/plain": [
       "[(2.0, 'Descuento Ferreteria', 'El beneficio tiene un descuento del 20% sin tope de reintegro en todas las Ferreterias', datetime.datetime(2024, 4, 24, 0, 0), datetime.datetime(2024, 12, 31, 0, 0))]"
      ]
     },
     "execution_count": 9,
     "metadata": {},
     "output_type": "execute_result"
    }
   ],
   "source": [
    "nombre"
   ]
  },
  {
   "cell_type": "code",
   "execution_count": 10,
   "id": "6d6c591e-f860-4c9e-a61a-c25024e9e4ba",
   "metadata": {},
   "outputs": [],
   "source": [
    "nivel = data.get_benefits(niv_id = 1)"
   ]
  },
  {
   "cell_type": "code",
   "execution_count": 11,
   "id": "9632cc19-6dd0-4fdf-ba9e-c27bc31ac231",
   "metadata": {},
   "outputs": [
    {
     "data": {
      "text/plain": [
       "[(1, 'Descuento supermercado SpaceX', 'El beneficio tiene un descuento del 30% sin tope de reintegro en todos los supermercados SpaceX'),\n",
       " (2, 'Descuento Ferreteria', 'El beneficio tiene un descuento del 20% sin tope de reintegro en todas las Ferreterias')]"
      ]
     },
     "execution_count": 11,
     "metadata": {},
     "output_type": "execute_result"
    }
   ],
   "source": [
    "nivel"
   ]
  },
  {
   "cell_type": "code",
   "execution_count": null,
   "id": "9ae5a08f-0bde-4c17-8bab-2e21ce1b824e",
   "metadata": {},
   "outputs": [],
   "source": []
  },
  {
   "cell_type": "code",
   "execution_count": null,
   "id": "9d7a79dd-e687-444a-a924-1940079d7b7d",
   "metadata": {},
   "outputs": [],
   "source": []
  },
  {
   "cell_type": "code",
   "execution_count": null,
   "id": "6a31c0f8-ed11-40a0-8811-345b37434930",
   "metadata": {},
   "outputs": [],
   "source": []
  }
 ],
 "metadata": {
  "kernelspec": {
   "display_name": "Python 3 (ipykernel)",
   "language": "python",
   "name": "python3"
  },
  "language_info": {
   "codemirror_mode": {
    "name": "ipython",
    "version": 3
   },
   "file_extension": ".py",
   "mimetype": "text/x-python",
   "name": "python",
   "nbconvert_exporter": "python",
   "pygments_lexer": "ipython3",
   "version": "3.10.12"
  }
 },
 "nbformat": 4,
 "nbformat_minor": 5
}
