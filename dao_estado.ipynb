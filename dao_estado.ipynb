{
 "cells": [
  {
   "cell_type": "code",
   "execution_count": 1,
   "id": "94816ca0-134d-4c42-b8b5-ef71c09deda6",
   "metadata": {},
   "outputs": [
    {
     "name": "stdout",
     "output_type": "stream",
     "text": [
      "/opt/oracle/instantclient_19_22\n",
      "entering parameters config\n",
      "finished config for parameters\n",
      "entering parameters config\n",
      "finished config for parameters\n",
      "entering parameters config\n",
      "finished config for parameters\n",
      "entering parameters config\n",
      "finished config for parameters\n",
      "entering parameters config\n",
      "finished config for parameters\n",
      "entering parameters config\n",
      "finished config for parameters\n",
      "entering parameters config\n",
      "finished config for parameters\n",
      "entering parameters config\n",
      "finished config for parameters\n",
      "entering parameters config\n",
      "finished config for parameters\n",
      "entering parameters config\n",
      "finished config for parameters\n",
      "entering parameters config\n",
      "finished config for parameters\n",
      "starting\n",
      "finished connection\n",
      "listo\n"
     ]
    }
   ],
   "source": [
    "from dao import ReclamoDAO\n",
    "print(\"listo\")"
   ]
  },
  {
   "cell_type": "code",
   "execution_count": 2,
   "id": "e651e4b0-ceef-4f6b-a389-4a2a7daed584",
   "metadata": {},
   "outputs": [],
   "source": [
    "data = ReclamoDAO()\n",
    "estados = data.get_status()"
   ]
  },
  {
   "cell_type": "code",
   "execution_count": 3,
   "id": "a7794ca8-18fa-4803-853e-d9e58198d11c",
   "metadata": {},
   "outputs": [
    {
     "data": {
      "text/plain": [
       "[(1.0, 'CREADO', 'El reclamo fue creado con éxito y está pendiende a ser atendido por uno de nuestros gestores.'),\n",
       " (2.0, 'EN REVISIÓN GESTOR', 'El reclamo fue asignado a uno de nuestros gestores. Se encuentra en evaluación.'),\n",
       " (3.0, 'EN ESPERA DE RESPUESTA USUARIO', 'El gestor atendió el reclamo pero necesita de la ayuda del reportador.'),\n",
       " (4.0, 'ESCALADO', 'El reclamo fue escalado para un mejor análisis.'),\n",
       " (5.0, 'RESUELTO', 'El reclamo fue resuelto con éxito.'),\n",
       " (6.0, 'DESESTIMADO', 'El reclamo fue rechazado por el agente.')]"
      ]
     },
     "execution_count": 3,
     "metadata": {},
     "output_type": "execute_result"
    }
   ],
   "source": [
    "estados"
   ]
  },
  {
   "cell_type": "code",
   "execution_count": 4,
   "id": "894a9e08-4c8e-4e27-9f6b-dfb2fe5eb767",
   "metadata": {},
   "outputs": [],
   "source": [
    "estado = data.get_status(est_id=2)"
   ]
  },
  {
   "cell_type": "code",
   "execution_count": 5,
   "id": "e1813d54-be4a-4e6b-9e6e-69d7c31df9bd",
   "metadata": {},
   "outputs": [
    {
     "data": {
      "text/plain": [
       "[(2.0, 'EN REVISIÓN GESTOR', 'El reclamo fue asignado a uno de nuestros gestores. Se encuentra en evaluación.')]"
      ]
     },
     "execution_count": 5,
     "metadata": {},
     "output_type": "execute_result"
    }
   ],
   "source": [
    "estado"
   ]
  },
  {
   "cell_type": "code",
   "execution_count": 6,
   "id": "3029a575-8998-455d-a378-395bf01a9413",
   "metadata": {},
   "outputs": [],
   "source": [
    "estadoNombre = data.get_status(est_nombre='asd')"
   ]
  },
  {
   "cell_type": "code",
   "execution_count": 7,
   "id": "b569921b-e380-40a0-9e37-98fc9e8bfce0",
   "metadata": {},
   "outputs": [
    {
     "data": {
      "text/plain": [
       "[]"
      ]
     },
     "execution_count": 7,
     "metadata": {},
     "output_type": "execute_result"
    }
   ],
   "source": [
    "estadoNombre"
   ]
  },
  {
   "cell_type": "code",
   "execution_count": null,
   "id": "8ecb0da8-6b79-48dc-a707-48c5280a54f8",
   "metadata": {},
   "outputs": [],
   "source": []
  }
 ],
 "metadata": {
  "kernelspec": {
   "display_name": "Python 3 (ipykernel)",
   "language": "python",
   "name": "python3"
  },
  "language_info": {
   "codemirror_mode": {
    "name": "ipython",
    "version": 3
   },
   "file_extension": ".py",
   "mimetype": "text/x-python",
   "name": "python",
   "nbconvert_exporter": "python",
   "pygments_lexer": "ipython3",
   "version": "3.10.12"
  }
 },
 "nbformat": 4,
 "nbformat_minor": 5
}
