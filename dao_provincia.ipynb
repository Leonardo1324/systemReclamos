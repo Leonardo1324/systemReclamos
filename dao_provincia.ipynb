{
 "cells": [
  {
   "cell_type": "code",
   "execution_count": 1,
   "id": "9ddf72f1-4df6-4deb-94a3-c7d3f2992c6c",
   "metadata": {},
   "outputs": [
    {
     "name": "stdout",
     "output_type": "stream",
     "text": [
      "/opt/oracle/instantclient_19_22\n",
      "entering parameters config\n",
      "finished config for parameters\n",
      "entering parameters config\n",
      "finished config for parameters\n",
      "entering parameters config\n",
      "finished config for parameters\n",
      "entering parameters config\n",
      "finished config for parameters\n",
      "entering parameters config\n",
      "finished config for parameters\n",
      "entering parameters config\n",
      "finished config for parameters\n",
      "entering parameters config\n",
      "finished config for parameters\n",
      "entering parameters config\n",
      "finished config for parameters\n",
      "entering parameters config\n",
      "finished config for parameters\n",
      "entering parameters config\n",
      "finished config for parameters\n",
      "entering parameters config\n",
      "finished config for parameters\n",
      "starting\n",
      "finished connection\n",
      "listo\n"
     ]
    }
   ],
   "source": [
    "from dao import ReclamoDAO\n",
    "print(\"listo\")"
   ]
  },
  {
   "cell_type": "code",
   "execution_count": 2,
   "id": "2b1bc2f9-0a55-44c4-a9ee-9f086101a73d",
   "metadata": {},
   "outputs": [],
   "source": [
    "data = ReclamoDAO()\n",
    "provincias = data.get_province()"
   ]
  },
  {
   "cell_type": "code",
   "execution_count": 3,
   "id": "f14a3810-7d17-4da9-b90b-c3590c363e39",
   "metadata": {},
   "outputs": [
    {
     "data": {
      "text/plain": [
       "[(1.0, 'La Rioja', 'F5300 La Rioja'),\n",
       " (2.0, 'Catamarca', 'sanfernando den valle de catamarca,Catamarca')]"
      ]
     },
     "execution_count": 3,
     "metadata": {},
     "output_type": "execute_result"
    }
   ],
   "source": [
    "provincias"
   ]
  },
  {
   "cell_type": "code",
   "execution_count": 4,
   "id": "643f6f84-2da8-42c2-9529-f73565a22a96",
   "metadata": {},
   "outputs": [
    {
     "data": {
      "text/plain": [
       "[(2.0, 'Catamarca', 'sanfernando den valle de catamarca,Catamarca')]"
      ]
     },
     "execution_count": 4,
     "metadata": {},
     "output_type": "execute_result"
    }
   ],
   "source": [
    "provincia = data.get_province(prov_id=2)\n",
    "provincia"
   ]
  },
  {
   "cell_type": "code",
   "execution_count": 5,
   "id": "8f8e1098-12ef-487a-be1e-476c631862d1",
   "metadata": {},
   "outputs": [
    {
     "data": {
      "text/plain": [
       "[(1.0, 'La Rioja', 'F5300 La Rioja')]"
      ]
     },
     "execution_count": 5,
     "metadata": {},
     "output_type": "execute_result"
    }
   ],
   "source": [
    "provincia_nombre = data.get_province(prov_nombre=\"La Rioja\")\n",
    "provincia_nombre"
   ]
  },
  {
   "cell_type": "code",
   "execution_count": 6,
   "id": "48cd550f-5c67-4896-9643-e95f56c2580a",
   "metadata": {},
   "outputs": [
    {
     "data": {
      "text/plain": [
       "[(1.0, 'La Rioja', 'F5300 La Rioja')]"
      ]
     },
     "execution_count": 6,
     "metadata": {},
     "output_type": "execute_result"
    }
   ],
   "source": [
    "provincia_dir = data.get_province(prov_direccion=\"F5300 La Rioja\")\n",
    "provincia_dir"
   ]
  },
  {
   "cell_type": "code",
   "execution_count": 7,
   "id": "644e7d94-36a7-431a-be35-0b32e79ce215",
   "metadata": {},
   "outputs": [
    {
     "data": {
      "text/plain": [
       "[('La Rioja', 'Municipalidad de Chilecito'),\n",
       " ('La Rioja', 'Municipalidad de capita'),\n",
       " ('La Rioja', 'Municiapalidad Famatina')]"
      ]
     },
     "execution_count": 7,
     "metadata": {},
     "output_type": "execute_result"
    }
   ],
   "source": [
    "municipios = data.get_province(prov_provincia=\"La Rioja\")\n",
    "municipios"
   ]
  },
  {
   "cell_type": "code",
   "execution_count": null,
   "id": "ccdf1d2b-ebc7-42ad-aa18-2f9b11d39e1b",
   "metadata": {},
   "outputs": [],
   "source": []
  }
 ],
 "metadata": {
  "kernelspec": {
   "display_name": "Python 3 (ipykernel)",
   "language": "python",
   "name": "python3"
  },
  "language_info": {
   "codemirror_mode": {
    "name": "ipython",
    "version": 3
   },
   "file_extension": ".py",
   "mimetype": "text/x-python",
   "name": "python",
   "nbconvert_exporter": "python",
   "pygments_lexer": "ipython3",
   "version": "3.10.12"
  }
 },
 "nbformat": 4,
 "nbformat_minor": 5
}
