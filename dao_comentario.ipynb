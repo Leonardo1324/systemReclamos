{
 "cells": [
  {
   "cell_type": "code",
   "execution_count": 1,
   "id": "30e0a62d-2744-4995-8d71-5011a83cec1a",
   "metadata": {},
   "outputs": [
    {
     "name": "stdout",
     "output_type": "stream",
     "text": [
      "/opt/oracle/instantclient_19_22\n",
      "entering parameters config\n",
      "finished config for parameters\n",
      "entering parameters config\n",
      "finished config for parameters\n",
      "entering parameters config\n",
      "finished config for parameters\n",
      "entering parameters config\n",
      "finished config for parameters\n",
      "entering parameters config\n",
      "finished config for parameters\n",
      "entering parameters config\n",
      "finished config for parameters\n",
      "starting\n",
      "finished connection\n",
      "listo\n"
     ]
    }
   ],
   "source": [
    "from dao2 import ReclamoDAO\n",
    "print(\"listo\")"
   ]
  },
  {
   "cell_type": "code",
   "execution_count": 2,
   "id": "23ac4776-45d1-4ea9-b333-6ece7856209b",
   "metadata": {},
   "outputs": [
    {
     "data": {
      "text/plain": [
       "[(1.0, 1, None, 1, datetime.datetime(2024, 5, 9, 0, 0), datetime.datetime(2024, 5, 9, 0, 0), 'hay una fuga de agua'),\n",
       " (2.0, 2, None, 1, datetime.datetime(2024, 5, 7, 0, 0), datetime.datetime(2024, 5, 7, 0, 0), 'hay un perro abandonado'),\n",
       " (3.0, 3, None, 2, datetime.datetime(2024, 5, 2, 0, 0), datetime.datetime(2024, 5, 2, 0, 0), 'hay un pozo en el puente!!'),\n",
       " (4.0, 1, 2, None, datetime.datetime(2024, 5, 2, 0, 0), datetime.datetime(2024, 5, 2, 0, 0), 'Se rompio la 5ta manguera'),\n",
       " (5.0, 2, 3, None, datetime.datetime(2024, 5, 2, 0, 0), datetime.datetime(2024, 5, 2, 0, 0), 'Ya tenemos al perro')]"
      ]
     },
     "execution_count": 2,
     "metadata": {},
     "output_type": "execute_result"
    }
   ],
   "source": [
    "data = ReclamoDAO()\n",
    "comentarios = data.get_comments()\n",
    "comentarios"
   ]
  },
  {
   "cell_type": "code",
   "execution_count": 3,
   "id": "e5df331b-e6a8-432b-a3ad-362dc3c3b0f7",
   "metadata": {},
   "outputs": [
    {
     "data": {
      "text/plain": [
       "[(2.0, 2, None, 1, datetime.datetime(2024, 5, 7, 0, 0), datetime.datetime(2024, 5, 7, 0, 0), 'hay un perro abandonado')]"
      ]
     },
     "execution_count": 3,
     "metadata": {},
     "output_type": "execute_result"
    }
   ],
   "source": [
    "comen_id = data.get_comments(com_id=2)\n",
    "comen_id"
   ]
  },
  {
   "cell_type": "code",
   "execution_count": 4,
   "id": "c5f90ada-fece-470a-bc18-5f233c9b886d",
   "metadata": {},
   "outputs": [
    {
     "data": {
      "text/plain": [
       "[(1.0, 1, None, 1, datetime.datetime(2024, 5, 9, 0, 0), datetime.datetime(2024, 5, 9, 0, 0), 'hay una fuga de agua'),\n",
       " (2.0, 2, None, 1, datetime.datetime(2024, 5, 7, 0, 0), datetime.datetime(2024, 5, 7, 0, 0), 'hay un perro abandonado')]"
      ]
     },
     "execution_count": 4,
     "metadata": {},
     "output_type": "execute_result"
    }
   ],
   "source": [
    "comen_use = data.get_comments(use_id=1)\n",
    "comen_use"
   ]
  },
  {
   "cell_type": "code",
   "execution_count": 5,
   "id": "35bf4ee8-7f7d-4cb2-9795-f9d648eff435",
   "metadata": {},
   "outputs": [
    {
     "data": {
      "text/plain": [
       "[(5.0, 2, 3, None, datetime.datetime(2024, 5, 2, 0, 0), datetime.datetime(2024, 5, 2, 0, 0), 'Ya tenemos al perro')]"
      ]
     },
     "execution_count": 5,
     "metadata": {},
     "output_type": "execute_result"
    }
   ],
   "source": [
    "comen_ges = data.get_comments(ges_id=3)\n",
    "comen_ges"
   ]
  },
  {
   "cell_type": "code",
   "execution_count": 6,
   "id": "36813d31-cd00-46f0-a6c3-9507091a5bf7",
   "metadata": {},
   "outputs": [
    {
     "data": {
      "text/plain": [
       "[('Maximiliano Javier', 'Bruce', 'Manguera rota', 'Se rompio la 5ta manguera')]"
      ]
     },
     "execution_count": 6,
     "metadata": {},
     "output_type": "execute_result"
    }
   ],
   "source": [
    "comen_rec = data.get_comments(rec_id=1)\n",
    "comen_rec"
   ]
  },
  {
   "cell_type": "code",
   "execution_count": null,
   "id": "438342d9-9c7d-43bc-8bd5-c661ede16bfe",
   "metadata": {},
   "outputs": [],
   "source": []
  }
 ],
 "metadata": {
  "kernelspec": {
   "display_name": "Python 3 (ipykernel)",
   "language": "python",
   "name": "python3"
  },
  "language_info": {
   "codemirror_mode": {
    "name": "ipython",
    "version": 3
   },
   "file_extension": ".py",
   "mimetype": "text/x-python",
   "name": "python",
   "nbconvert_exporter": "python",
   "pygments_lexer": "ipython3",
   "version": "3.10.12"
  }
 },
 "nbformat": 4,
 "nbformat_minor": 5
}
